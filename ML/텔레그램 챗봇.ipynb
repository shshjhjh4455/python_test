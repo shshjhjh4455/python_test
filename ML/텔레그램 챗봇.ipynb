{
 "cells": [
  {
   "cell_type": "code",
   "execution_count": 2,
   "id": "01ff93f4",
   "metadata": {},
   "outputs": [],
   "source": [
    "import urllib.request\n",
    "def request(url):\n",
    "# \"\"\"지정한 url의 웹 문서를 요청하여, 본문을 반환한다.\"\"\"\n",
    "    response = urllib.request.urlopen(url)\n",
    "    byte_data = response.read()\n",
    "    text_data = byte_data.decode()\n",
    "    return text_data\n",
    "\n",
    "TOKEN='5864078350:AAGGxRVuFTSPgRq5NbDdynZ8wSm4gL5CtRE'\n",
    "#챗봇 요청 URL을 생성 함수 정의\n",
    "def build_url(method, query):\n",
    "# \"\"\"텔레그램 챗봇 웹 API에 요청을 보내기 위한 URL을 만들어 반환한다.\"\"\"\n",
    "    return f'https://api.telegram.org/bot{TOKEN}/{method}?{query}'\n"
   ]
  },
  {
   "cell_type": "code",
   "execution_count": 3,
   "id": "6c28d3d6",
   "metadata": {},
   "outputs": [
    {
     "data": {
      "text/plain": [
       "{'ok': True,\n",
       " 'result': {'id': 5864078350,\n",
       "  'is_bot': True,\n",
       "  'first_name': 'jiyabot',\n",
       "  'username': 'jiyajiyabot',\n",
       "  'can_join_groups': True,\n",
       "  'can_read_all_group_messages': False,\n",
       "  'supports_inline_queries': False}}"
      ]
     },
     "execution_count": 3,
     "metadata": {},
     "output_type": "execute_result"
    }
   ],
   "source": [
    "import json\n",
    "#getMe 메서드로 요청하여 웹 API 상태 확인\n",
    "response = request(build_url('getMe',''))\n",
    "#챗봇 웹 API 응답 결과를 파이썬 컬렉션으로 해석 \n",
    "json.loads(response)\n"
   ]
  },
  {
   "cell_type": "code",
   "execution_count": 4,
   "id": "70c1fa45",
   "metadata": {},
   "outputs": [],
   "source": [
    "def request_to_chatbot_api(method,query):\n",
    "    url=build_url(method,query)\n",
    "    response=request(url)\n",
    "    return json.loads(response)"
   ]
  },
  {
   "cell_type": "code",
   "execution_count": 5,
   "id": "5c707080",
   "metadata": {},
   "outputs": [
    {
     "name": "stdout",
     "output_type": "stream",
     "text": [
      "{'ok': True, 'result': [{'update_id': 491848833, 'message': {'message_id': 3, 'from': {'id': 5881553182, 'is_bot': False, 'first_name': '❁´◡`❁', 'language_code': 'ko'}, 'chat': {'id': 5881553182, 'first_name': '❁´◡`❁', 'type': 'private'}, 'date': 1669350378, 'text': 'hiii'}}, {'update_id': 491848834, 'message': {'message_id': 4, 'from': {'id': 5881553182, 'is_bot': False, 'first_name': '❁´◡`❁', 'language_code': 'ko'}, 'chat': {'id': 5881553182, 'first_name': '❁´◡`❁', 'type': 'private'}, 'date': 1669351450, 'text': '안녀엉'}}, {'update_id': 491848835, 'message': {'message_id': 5, 'from': {'id': 5881553182, 'is_bot': False, 'first_name': '❁´◡`❁', 'language_code': 'ko'}, 'chat': {'id': 5881553182, 'first_name': '❁´◡`❁', 'type': 'private'}, 'date': 1669351568, 'text': '이 메시지는 영국에서 시작되어,,'}}, {'update_id': 491848836, 'message': {'message_id': 6, 'from': {'id': 5881553182, 'is_bot': False, 'first_name': '❁´◡`❁', 'language_code': 'ko'}, 'chat': {'id': 5881553182, 'first_name': '❁´◡`❁', 'type': 'private'}, 'date': 1669352057, 'text': '1'}}, {'update_id': 491848837, 'message': {'message_id': 7, 'from': {'id': 5881553182, 'is_bot': False, 'first_name': '❁´◡`❁', 'language_code': 'ko'}, 'chat': {'id': 5881553182, 'first_name': '❁´◡`❁', 'type': 'private'}, 'date': 1669352058, 'text': '1'}}, {'update_id': 491848838, 'message': {'message_id': 8, 'from': {'id': 5881553182, 'is_bot': False, 'first_name': '❁´◡`❁', 'language_code': 'ko'}, 'chat': {'id': 5881553182, 'first_name': '❁´◡`❁', 'type': 'private'}, 'date': 1669352058, 'text': '1'}}, {'update_id': 491848839, 'message': {'message_id': 12, 'from': {'id': 5881553182, 'is_bot': False, 'first_name': '❁´◡`❁', 'language_code': 'ko'}, 'chat': {'id': 5881553182, 'first_name': '❁´◡`❁', 'type': 'private'}, 'date': 1669352425, 'text': '안녕'}}]}\n"
     ]
    }
   ],
   "source": [
    "#챗봇 웹 API 응답 결과를 파이썬 컬렉션으로 해석\n",
    "response = request_to_chatbot_api('getUpdates', 'offset=0')\n",
    "print(response)\n"
   ]
  },
  {
   "cell_type": "code",
   "execution_count": 7,
   "id": "001b69d8",
   "metadata": {},
   "outputs": [],
   "source": [
    "#텔레그램 챗봇 API의 getUpdate 메서드 요청 결과에서 필요한 정보만 추출\n",
    "def simplify_messages(response): #응답 JSON 객체\n",
    "    result=response['result']\n",
    "    if not result:\n",
    "        return None,[]\n",
    "    \n",
    "    last_updated_id=max(item['update_id']for item in result)\n",
    "    messages=[item['message']for item in result]\n",
    "    simplified_messages=[{'from_id':message['from']['id'],'text':message['text']} for message in messages]\n",
    "    return last_updated_id,simplified_messages"
   ]
  },
  {
   "cell_type": "code",
   "execution_count": 8,
   "id": "65d52457",
   "metadata": {},
   "outputs": [
    {
     "data": {
      "text/plain": [
       "(491848839,\n",
       " [{'from_id': 5881553182, 'text': 'hiii'},\n",
       "  {'from_id': 5881553182, 'text': '안녀엉'},\n",
       "  {'from_id': 5881553182, 'text': '이 메시지는 영국에서 시작되어,,'},\n",
       "  {'from_id': 5881553182, 'text': '1'},\n",
       "  {'from_id': 5881553182, 'text': '1'},\n",
       "  {'from_id': 5881553182, 'text': '1'},\n",
       "  {'from_id': 5881553182, 'text': '안녕'}])"
      ]
     },
     "execution_count": 8,
     "metadata": {},
     "output_type": "execute_result"
    }
   ],
   "source": [
    "simplify_messages(response)"
   ]
  },
  {
   "cell_type": "code",
   "execution_count": 9,
   "id": "12452c36",
   "metadata": {},
   "outputs": [],
   "source": [
    "#챗봇 api updated_id 이후에 수신한 메시지를 조회하여 반환하는 함수 정의\n",
    "def get_message(update_id):\n",
    "    query=f'offset={update_id}'\n",
    "    response=request_to_chatbot_api(method='getUpdates',query=query)\n",
    "    return simplify_messages(response)"
   ]
  },
  {
   "cell_type": "code",
   "execution_count": 10,
   "id": "c2807bf3",
   "metadata": {},
   "outputs": [
    {
     "data": {
      "text/plain": [
       "(491848839,\n",
       " [{'from_id': 5881553182, 'text': 'hiii'},\n",
       "  {'from_id': 5881553182, 'text': '안녀엉'},\n",
       "  {'from_id': 5881553182, 'text': '이 메시지는 영국에서 시작되어,,'},\n",
       "  {'from_id': 5881553182, 'text': '1'},\n",
       "  {'from_id': 5881553182, 'text': '1'},\n",
       "  {'from_id': 5881553182, 'text': '1'},\n",
       "  {'from_id': 5881553182, 'text': '안녕'}])"
      ]
     },
     "execution_count": 10,
     "metadata": {},
     "output_type": "execute_result"
    }
   ],
   "source": [
    "get_message(491848833)"
   ]
  },
  {
   "cell_type": "code",
   "execution_count": 11,
   "id": "0fad52d0",
   "metadata": {},
   "outputs": [
    {
     "data": {
      "text/plain": [
       "{'ok': True,\n",
       " 'result': {'message_id': 34,\n",
       "  'from': {'id': 5864078350,\n",
       "   'is_bot': True,\n",
       "   'first_name': 'jiyabot',\n",
       "   'username': 'jiyajiyabot'},\n",
       "  'chat': {'id': 5881553182, 'first_name': '❁´◡`❁', 'type': 'private'},\n",
       "  'date': 1669355076,\n",
       "  'text': 'hii'}}"
      ]
     },
     "execution_count": 11,
     "metadata": {},
     "output_type": "execute_result"
    }
   ],
   "source": [
    "#나한테 보내기\n",
    "request_to_chatbot_api('sendMessage','chat_id=5881553182&text=hii')\n"
   ]
  },
  {
   "cell_type": "code",
   "execution_count": 12,
   "id": "8e486605",
   "metadata": {},
   "outputs": [
    {
     "data": {
      "text/plain": [
       "{'ok': True,\n",
       " 'result': {'message_id': 35,\n",
       "  'from': {'id': 5864078350,\n",
       "   'is_bot': True,\n",
       "   'first_name': 'jiyabot',\n",
       "   'username': 'jiyajiyabot'},\n",
       "  'chat': {'id': 5881553182, 'first_name': '❁´◡`❁', 'type': 'private'},\n",
       "  'date': 1669355079,\n",
       "  'text': '아프지 마세요ㅠㅠ'}}"
      ]
     },
     "execution_count": 12,
     "metadata": {},
     "output_type": "execute_result"
    }
   ],
   "source": [
    "import urllib.parse\n",
    "text=urllib.parse.quote('아프지 마세요ㅠㅠ')\n",
    "request_to_chatbot_api('sendMessage',f'chat_id=5881553182&text={text}')"
   ]
  },
  {
   "cell_type": "code",
   "execution_count": 13,
   "id": "c42b833c",
   "metadata": {},
   "outputs": [
    {
     "ename": "HTTPError",
     "evalue": "HTTP Error 400: Bad Request",
     "output_type": "error",
     "traceback": [
      "\u001b[0;31m---------------------------------------------------------------------------\u001b[0m",
      "\u001b[0;31mHTTPError\u001b[0m                                 Traceback (most recent call last)",
      "\u001b[1;32m/Users/bagjeonghyeon/python_test/ML/텔레그램 챗봇.ipynb Cell 11\u001b[0m in \u001b[0;36m<cell line: 3>\u001b[0;34m()\u001b[0m\n\u001b[1;32m      <a href='vscode-notebook-cell:/Users/bagjeonghyeon/python_test/ML/%E1%84%90%E1%85%A6%E1%86%AF%E1%84%85%E1%85%A6%E1%84%80%E1%85%B3%E1%84%85%E1%85%A2%E1%86%B7%20%E1%84%8E%E1%85%A2%E1%86%BA%E1%84%87%E1%85%A9%E1%86%BA.ipynb#X13sZmlsZQ%3D%3D?line=0'>1</a>\u001b[0m \u001b[39mimport\u001b[39;00m \u001b[39murllib\u001b[39;00m\u001b[39m.\u001b[39;00m\u001b[39mparse\u001b[39;00m\n\u001b[1;32m      <a href='vscode-notebook-cell:/Users/bagjeonghyeon/python_test/ML/%E1%84%90%E1%85%A6%E1%86%AF%E1%84%85%E1%85%A6%E1%84%80%E1%85%B3%E1%84%85%E1%85%A2%E1%86%B7%20%E1%84%8E%E1%85%A2%E1%86%BA%E1%84%87%E1%85%A9%E1%86%BA.ipynb#X13sZmlsZQ%3D%3D?line=1'>2</a>\u001b[0m text\u001b[39m=\u001b[39murllib\u001b[39m.\u001b[39mparse\u001b[39m.\u001b[39mquote(\u001b[39m'\u001b[39m\u001b[39m아프지 마세요ㅠㅠ\u001b[39m\u001b[39m'\u001b[39m)\n\u001b[0;32m----> <a href='vscode-notebook-cell:/Users/bagjeonghyeon/python_test/ML/%E1%84%90%E1%85%A6%E1%86%AF%E1%84%85%E1%85%A6%E1%84%80%E1%85%B3%E1%84%85%E1%85%A2%E1%86%B7%20%E1%84%8E%E1%85%A2%E1%86%BA%E1%84%87%E1%85%A9%E1%86%BA.ipynb#X13sZmlsZQ%3D%3D?line=2'>3</a>\u001b[0m request_to_chatbot_api(\u001b[39m'\u001b[39;49m\u001b[39msendMessage\u001b[39;49m\u001b[39m'\u001b[39;49m,\u001b[39mf\u001b[39;49m\u001b[39m'\u001b[39;49m\u001b[39mchat_id=5684194401&text=\u001b[39;49m\u001b[39m{\u001b[39;49;00mtext\u001b[39m}\u001b[39;49;00m\u001b[39m'\u001b[39;49m)\n",
      "\u001b[1;32m/Users/bagjeonghyeon/python_test/ML/텔레그램 챗봇.ipynb Cell 11\u001b[0m in \u001b[0;36mrequest_to_chatbot_api\u001b[0;34m(method, query)\u001b[0m\n\u001b[1;32m      <a href='vscode-notebook-cell:/Users/bagjeonghyeon/python_test/ML/%E1%84%90%E1%85%A6%E1%86%AF%E1%84%85%E1%85%A6%E1%84%80%E1%85%B3%E1%84%85%E1%85%A2%E1%86%B7%20%E1%84%8E%E1%85%A2%E1%86%BA%E1%84%87%E1%85%A9%E1%86%BA.ipynb#X13sZmlsZQ%3D%3D?line=0'>1</a>\u001b[0m \u001b[39mdef\u001b[39;00m \u001b[39mrequest_to_chatbot_api\u001b[39m(method,query):\n\u001b[1;32m      <a href='vscode-notebook-cell:/Users/bagjeonghyeon/python_test/ML/%E1%84%90%E1%85%A6%E1%86%AF%E1%84%85%E1%85%A6%E1%84%80%E1%85%B3%E1%84%85%E1%85%A2%E1%86%B7%20%E1%84%8E%E1%85%A2%E1%86%BA%E1%84%87%E1%85%A9%E1%86%BA.ipynb#X13sZmlsZQ%3D%3D?line=1'>2</a>\u001b[0m     url\u001b[39m=\u001b[39mbuild_url(method,query)\n\u001b[0;32m----> <a href='vscode-notebook-cell:/Users/bagjeonghyeon/python_test/ML/%E1%84%90%E1%85%A6%E1%86%AF%E1%84%85%E1%85%A6%E1%84%80%E1%85%B3%E1%84%85%E1%85%A2%E1%86%B7%20%E1%84%8E%E1%85%A2%E1%86%BA%E1%84%87%E1%85%A9%E1%86%BA.ipynb#X13sZmlsZQ%3D%3D?line=2'>3</a>\u001b[0m     response\u001b[39m=\u001b[39mrequest(url)\n\u001b[1;32m      <a href='vscode-notebook-cell:/Users/bagjeonghyeon/python_test/ML/%E1%84%90%E1%85%A6%E1%86%AF%E1%84%85%E1%85%A6%E1%84%80%E1%85%B3%E1%84%85%E1%85%A2%E1%86%B7%20%E1%84%8E%E1%85%A2%E1%86%BA%E1%84%87%E1%85%A9%E1%86%BA.ipynb#X13sZmlsZQ%3D%3D?line=3'>4</a>\u001b[0m     \u001b[39mreturn\u001b[39;00m json\u001b[39m.\u001b[39mloads(response)\n",
      "\u001b[1;32m/Users/bagjeonghyeon/python_test/ML/텔레그램 챗봇.ipynb Cell 11\u001b[0m in \u001b[0;36mrequest\u001b[0;34m(url)\u001b[0m\n\u001b[1;32m      <a href='vscode-notebook-cell:/Users/bagjeonghyeon/python_test/ML/%E1%84%90%E1%85%A6%E1%86%AF%E1%84%85%E1%85%A6%E1%84%80%E1%85%B3%E1%84%85%E1%85%A2%E1%86%B7%20%E1%84%8E%E1%85%A2%E1%86%BA%E1%84%87%E1%85%A9%E1%86%BA.ipynb#X13sZmlsZQ%3D%3D?line=1'>2</a>\u001b[0m \u001b[39mdef\u001b[39;00m \u001b[39mrequest\u001b[39m(url):\n\u001b[1;32m      <a href='vscode-notebook-cell:/Users/bagjeonghyeon/python_test/ML/%E1%84%90%E1%85%A6%E1%86%AF%E1%84%85%E1%85%A6%E1%84%80%E1%85%B3%E1%84%85%E1%85%A2%E1%86%B7%20%E1%84%8E%E1%85%A2%E1%86%BA%E1%84%87%E1%85%A9%E1%86%BA.ipynb#X13sZmlsZQ%3D%3D?line=2'>3</a>\u001b[0m \u001b[39m# \"\"\"지정한 url의 웹 문서를 요청하여, 본문을 반환한다.\"\"\"\u001b[39;00m\n\u001b[0;32m----> <a href='vscode-notebook-cell:/Users/bagjeonghyeon/python_test/ML/%E1%84%90%E1%85%A6%E1%86%AF%E1%84%85%E1%85%A6%E1%84%80%E1%85%B3%E1%84%85%E1%85%A2%E1%86%B7%20%E1%84%8E%E1%85%A2%E1%86%BA%E1%84%87%E1%85%A9%E1%86%BA.ipynb#X13sZmlsZQ%3D%3D?line=3'>4</a>\u001b[0m     response \u001b[39m=\u001b[39m urllib\u001b[39m.\u001b[39;49mrequest\u001b[39m.\u001b[39;49murlopen(url)\n\u001b[1;32m      <a href='vscode-notebook-cell:/Users/bagjeonghyeon/python_test/ML/%E1%84%90%E1%85%A6%E1%86%AF%E1%84%85%E1%85%A6%E1%84%80%E1%85%B3%E1%84%85%E1%85%A2%E1%86%B7%20%E1%84%8E%E1%85%A2%E1%86%BA%E1%84%87%E1%85%A9%E1%86%BA.ipynb#X13sZmlsZQ%3D%3D?line=4'>5</a>\u001b[0m     byte_data \u001b[39m=\u001b[39m response\u001b[39m.\u001b[39mread()\n\u001b[1;32m      <a href='vscode-notebook-cell:/Users/bagjeonghyeon/python_test/ML/%E1%84%90%E1%85%A6%E1%86%AF%E1%84%85%E1%85%A6%E1%84%80%E1%85%B3%E1%84%85%E1%85%A2%E1%86%B7%20%E1%84%8E%E1%85%A2%E1%86%BA%E1%84%87%E1%85%A9%E1%86%BA.ipynb#X13sZmlsZQ%3D%3D?line=5'>6</a>\u001b[0m     text_data \u001b[39m=\u001b[39m byte_data\u001b[39m.\u001b[39mdecode()\n",
      "File \u001b[0;32m~/miniforge3/envs/baseDeep/lib/python3.8/urllib/request.py:222\u001b[0m, in \u001b[0;36murlopen\u001b[0;34m(url, data, timeout, cafile, capath, cadefault, context)\u001b[0m\n\u001b[1;32m    220\u001b[0m \u001b[39melse\u001b[39;00m:\n\u001b[1;32m    221\u001b[0m     opener \u001b[39m=\u001b[39m _opener\n\u001b[0;32m--> 222\u001b[0m \u001b[39mreturn\u001b[39;00m opener\u001b[39m.\u001b[39;49mopen(url, data, timeout)\n",
      "File \u001b[0;32m~/miniforge3/envs/baseDeep/lib/python3.8/urllib/request.py:531\u001b[0m, in \u001b[0;36mOpenerDirector.open\u001b[0;34m(self, fullurl, data, timeout)\u001b[0m\n\u001b[1;32m    529\u001b[0m \u001b[39mfor\u001b[39;00m processor \u001b[39min\u001b[39;00m \u001b[39mself\u001b[39m\u001b[39m.\u001b[39mprocess_response\u001b[39m.\u001b[39mget(protocol, []):\n\u001b[1;32m    530\u001b[0m     meth \u001b[39m=\u001b[39m \u001b[39mgetattr\u001b[39m(processor, meth_name)\n\u001b[0;32m--> 531\u001b[0m     response \u001b[39m=\u001b[39m meth(req, response)\n\u001b[1;32m    533\u001b[0m \u001b[39mreturn\u001b[39;00m response\n",
      "File \u001b[0;32m~/miniforge3/envs/baseDeep/lib/python3.8/urllib/request.py:640\u001b[0m, in \u001b[0;36mHTTPErrorProcessor.http_response\u001b[0;34m(self, request, response)\u001b[0m\n\u001b[1;32m    637\u001b[0m \u001b[39m# According to RFC 2616, \"2xx\" code indicates that the client's\u001b[39;00m\n\u001b[1;32m    638\u001b[0m \u001b[39m# request was successfully received, understood, and accepted.\u001b[39;00m\n\u001b[1;32m    639\u001b[0m \u001b[39mif\u001b[39;00m \u001b[39mnot\u001b[39;00m (\u001b[39m200\u001b[39m \u001b[39m<\u001b[39m\u001b[39m=\u001b[39m code \u001b[39m<\u001b[39m \u001b[39m300\u001b[39m):\n\u001b[0;32m--> 640\u001b[0m     response \u001b[39m=\u001b[39m \u001b[39mself\u001b[39;49m\u001b[39m.\u001b[39;49mparent\u001b[39m.\u001b[39;49merror(\n\u001b[1;32m    641\u001b[0m         \u001b[39m'\u001b[39;49m\u001b[39mhttp\u001b[39;49m\u001b[39m'\u001b[39;49m, request, response, code, msg, hdrs)\n\u001b[1;32m    643\u001b[0m \u001b[39mreturn\u001b[39;00m response\n",
      "File \u001b[0;32m~/miniforge3/envs/baseDeep/lib/python3.8/urllib/request.py:569\u001b[0m, in \u001b[0;36mOpenerDirector.error\u001b[0;34m(self, proto, *args)\u001b[0m\n\u001b[1;32m    567\u001b[0m \u001b[39mif\u001b[39;00m http_err:\n\u001b[1;32m    568\u001b[0m     args \u001b[39m=\u001b[39m (\u001b[39mdict\u001b[39m, \u001b[39m'\u001b[39m\u001b[39mdefault\u001b[39m\u001b[39m'\u001b[39m, \u001b[39m'\u001b[39m\u001b[39mhttp_error_default\u001b[39m\u001b[39m'\u001b[39m) \u001b[39m+\u001b[39m orig_args\n\u001b[0;32m--> 569\u001b[0m     \u001b[39mreturn\u001b[39;00m \u001b[39mself\u001b[39;49m\u001b[39m.\u001b[39;49m_call_chain(\u001b[39m*\u001b[39;49margs)\n",
      "File \u001b[0;32m~/miniforge3/envs/baseDeep/lib/python3.8/urllib/request.py:502\u001b[0m, in \u001b[0;36mOpenerDirector._call_chain\u001b[0;34m(self, chain, kind, meth_name, *args)\u001b[0m\n\u001b[1;32m    500\u001b[0m \u001b[39mfor\u001b[39;00m handler \u001b[39min\u001b[39;00m handlers:\n\u001b[1;32m    501\u001b[0m     func \u001b[39m=\u001b[39m \u001b[39mgetattr\u001b[39m(handler, meth_name)\n\u001b[0;32m--> 502\u001b[0m     result \u001b[39m=\u001b[39m func(\u001b[39m*\u001b[39;49margs)\n\u001b[1;32m    503\u001b[0m     \u001b[39mif\u001b[39;00m result \u001b[39mis\u001b[39;00m \u001b[39mnot\u001b[39;00m \u001b[39mNone\u001b[39;00m:\n\u001b[1;32m    504\u001b[0m         \u001b[39mreturn\u001b[39;00m result\n",
      "File \u001b[0;32m~/miniforge3/envs/baseDeep/lib/python3.8/urllib/request.py:649\u001b[0m, in \u001b[0;36mHTTPDefaultErrorHandler.http_error_default\u001b[0;34m(self, req, fp, code, msg, hdrs)\u001b[0m\n\u001b[1;32m    648\u001b[0m \u001b[39mdef\u001b[39;00m \u001b[39mhttp_error_default\u001b[39m(\u001b[39mself\u001b[39m, req, fp, code, msg, hdrs):\n\u001b[0;32m--> 649\u001b[0m     \u001b[39mraise\u001b[39;00m HTTPError(req\u001b[39m.\u001b[39mfull_url, code, msg, hdrs, fp)\n",
      "\u001b[0;31mHTTPError\u001b[0m: HTTP Error 400: Bad Request"
     ]
    }
   ],
   "source": [
    "import urllib.parse\n",
    "text=urllib.parse.quote('아프지 마세요ㅠㅠ')\n",
    "request_to_chatbot_api('sendMessage',f'chat_id=5684194401&text={text}')"
   ]
  },
  {
   "cell_type": "code",
   "execution_count": 14,
   "id": "6c0521aa",
   "metadata": {},
   "outputs": [],
   "source": [
    "#챗봇 api로 메시지를 chat_id 사용자에게 text 메시지 인코딩 처리해서 발신하는 함수 정의\n",
    "def send_message(chat_id,text):\n",
    "    text=urllib.parse.quote(text)\n",
    "    query=f'chat_id={chat_id}&text={text}'\n",
    "    qesponse=request_to_chatbot_api(method='sendMessage',query=query)\n",
    "    return response"
   ]
  },
  {
   "cell_type": "code",
   "execution_count": 15,
   "id": "c080f784",
   "metadata": {},
   "outputs": [
    {
     "ename": "NameError",
     "evalue": "name 'time' is not defined",
     "output_type": "error",
     "traceback": [
      "\u001b[0;31m---------------------------------------------------------------------------\u001b[0m",
      "\u001b[0;31mNameError\u001b[0m                                 Traceback (most recent call last)",
      "\u001b[1;32m/Users/bagjeonghyeon/python_test/ML/텔레그램 챗봇.ipynb Cell 13\u001b[0m in \u001b[0;36m<cell line: 14>\u001b[0;34m()\u001b[0m\n\u001b[1;32m     <a href='vscode-notebook-cell:/Users/bagjeonghyeon/python_test/ML/%E1%84%90%E1%85%A6%E1%86%AF%E1%84%85%E1%85%A6%E1%84%80%E1%85%B3%E1%84%85%E1%85%A2%E1%86%B7%20%E1%84%8E%E1%85%A2%E1%86%BA%E1%84%87%E1%85%A9%E1%86%BA.ipynb#X15sZmlsZQ%3D%3D?line=14'>15</a>\u001b[0m \u001b[39mif\u001b[39;00m last_update_id:\n\u001b[1;32m     <a href='vscode-notebook-cell:/Users/bagjeonghyeon/python_test/ML/%E1%84%90%E1%85%A6%E1%86%AF%E1%84%85%E1%85%A6%E1%84%80%E1%85%B3%E1%84%85%E1%85%A2%E1%86%B7%20%E1%84%8E%E1%85%A2%E1%86%BA%E1%84%87%E1%85%A9%E1%86%BA.ipynb#X15sZmlsZQ%3D%3D?line=15'>16</a>\u001b[0m     next_update_id\u001b[39m=\u001b[39mlast_update_id\u001b[39m+\u001b[39m\u001b[39m1\u001b[39m\n\u001b[0;32m---> <a href='vscode-notebook-cell:/Users/bagjeonghyeon/python_test/ML/%E1%84%90%E1%85%A6%E1%86%AF%E1%84%85%E1%85%A6%E1%84%80%E1%85%B3%E1%84%85%E1%85%A2%E1%86%B7%20%E1%84%8E%E1%85%A2%E1%86%BA%E1%84%87%E1%85%A9%E1%86%BA.ipynb#X15sZmlsZQ%3D%3D?line=16'>17</a>\u001b[0m time\u001b[39m.\u001b[39msleep(\u001b[39m5\u001b[39m)\n",
      "\u001b[0;31mNameError\u001b[0m: name 'time' is not defined"
     ]
    }
   ],
   "source": [
    "#5초에 한번씩 챗봇의 메시지를 확인하는 함수\n",
    "import os\n",
    "def check_messages_and_response(next_update_id):\n",
    "    last_update_id, recieved_messages=get_message(next_update_id)\n",
    "    for message in recieved_messages:\n",
    "        chat_id=message['from_id']\n",
    "        text=message['text']\n",
    "        send_text=text+'라고 말씀하셨네용~'\n",
    "        send_message(chat_id,send_text)\n",
    "    return last_update_id\n",
    "\n",
    "next_update_id=0\n",
    "while True:\n",
    "    last_update_id=check_messages_and_response(next_update_id)\n",
    "    if last_update_id:\n",
    "        next_update_id=last_update_id+1\n",
    "    time.sleep(5)"
   ]
  },
  {
   "cell_type": "code",
   "execution_count": null,
   "id": "48374310",
   "metadata": {},
   "outputs": [],
   "source": []
  }
 ],
 "metadata": {
  "kernelspec": {
   "display_name": "Python 3.8.13 ('baseDeep')",
   "language": "python",
   "name": "python3"
  },
  "language_info": {
   "codemirror_mode": {
    "name": "ipython",
    "version": 3
   },
   "file_extension": ".py",
   "mimetype": "text/x-python",
   "name": "python",
   "nbconvert_exporter": "python",
   "pygments_lexer": "ipython3",
   "version": "3.8.13"
  },
  "vscode": {
   "interpreter": {
    "hash": "d5bd3b74290b6fecca2d77c6682b8ba7e9275f0a56c500dd407ba5b0bc3fc494"
   }
  }
 },
 "nbformat": 4,
 "nbformat_minor": 5
}
